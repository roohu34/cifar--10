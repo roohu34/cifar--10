{
  "cells": [
    {
      "cell_type": "code",
      "execution_count": null,
      "metadata": {
        "id": "ODiMzR7u4kv_"
      },
      "outputs": [],
      "source": [
        "from keras.datasets import cifar10\n",
        "from keras.models import Sequential\n",
        "from keras.layers import Dense, Dropout, Conv2D, MaxPool2D, Flatten\n",
        "from keras.utils import np_utils"
      ]
    },
    {
      "cell_type": "code",
      "execution_count": null,
      "metadata": {
        "id": "PnD4_Q6E4mcJ"
      },
      "outputs": [],
      "source": []
    },
    {
      "cell_type": "code",
      "execution_count": null,
      "metadata": {
        "colab": {
          "base_uri": "https://localhost:8080/"
        },
        "id": "yTGTd6CQ4sKP",
        "outputId": "0906ad00-f795-48ff-c5a2-6d2f1e3a6313"
      },
      "outputs": [
        {
          "name": "stdout",
          "output_type": "stream",
          "text": [
            "Downloading data from https://www.cs.toronto.edu/~kriz/cifar-10-python.tar.gz\n",
            "170500096/170498071 [==============================] - 2s 0us/step\n",
            "170508288/170498071 [==============================] - 2s 0us/step\n"
          ]
        }
      ],
      "source": [
        "(X_train, y_train), (X_test, y_test) = cifar10.load_data()"
      ]
    },
    {
      "cell_type": "code",
      "execution_count": null,
      "metadata": {
        "colab": {
          "base_uri": "https://localhost:8080/"
        },
        "id": "97MiAYT94yio",
        "outputId": "32d01fe1-308f-439f-f699-f9b3991a794f"
      },
      "outputs": [
        {
          "data": {
            "text/plain": [
              "(50000, 32, 32, 3)"
            ]
          },
          "execution_count": 20,
          "metadata": {},
          "output_type": "execute_result"
        }
      ],
      "source": [
        "from keras.layers import  Conv2D,Dense, MaxPooling2D\n",
        "from keras.layers  import Dropout, BatchNormalizationX_train.shape"
      ]
    },
    {
      "cell_type": "code",
      "execution_count": null,
      "metadata": {
        "colab": {
          "base_uri": "https://localhost:8080/"
        },
        "id": "ZpSQpsT744of",
        "outputId": "5289786c-1cf8-4a0e-a5dc-c140e8251708"
      },
      "outputs": [
        {
          "data": {
            "text/plain": [
              "(50000, 1)"
            ]
          },
          "execution_count": 22,
          "metadata": {},
          "output_type": "execute_result"
        }
      ],
      "source": [
        "y_train.shape\n"
      ]
    },
    {
      "cell_type": "code",
      "execution_count": null,
      "metadata": {
        "id": "Qa6Ey7Tx8Ntt"
      },
      "outputs": [],
      "source": [
        "from keras.layers import  Conv2D,Dense, MaxPooling2D\n",
        "from keras.layers  import Dropout, BatchNormalization"
      ]
    },
    {
      "cell_type": "code",
      "execution_count": null,
      "metadata": {
        "id": "pRF901kn8WnJ"
      },
      "outputs": [],
      "source": [
        "from tensorflow.keras.models import Sequential"
      ]
    },
    {
      "cell_type": "code",
      "execution_count": null,
      "metadata": {
        "id": "ztoHAXP08XyB"
      },
      "outputs": [],
      "source": [
        "from tensorflow.keras.layers import Flatten"
      ]
    },
    {
      "cell_type": "code",
      "execution_count": null,
      "metadata": {
        "colab": {
          "base_uri": "https://localhost:8080/"
        },
        "id": "xDhWTFZp5xc_",
        "outputId": "6a491f51-bfb4-404a-cbae-7fda757333c1"
      },
      "outputs": [
        {
          "name": "stdout",
          "output_type": "stream",
          "text": [
            "Model: \"sequential_5\"\n",
            "_________________________________________________________________\n",
            " Layer (type)                Output Shape              Param #   \n",
            "=================================================================\n",
            " conv2d_12 (Conv2D)          (None, 30, 30, 16)        448       \n",
            "                                                                 \n",
            " max_pooling2d_8 (MaxPooling  (None, 15, 15, 16)       0         \n",
            " 2D)                                                             \n",
            "                                                                 \n",
            " conv2d_13 (Conv2D)          (None, 13, 13, 8)         1160      \n",
            "                                                                 \n",
            " max_pooling2d_9 (MaxPooling  (None, 6, 6, 8)          0         \n",
            " 2D)                                                             \n",
            "                                                                 \n",
            " flatten_4 (Flatten)         (None, 288)               0         \n",
            "                                                                 \n",
            " dense_3 (Dense)             (None, 30)                8670      \n",
            "                                                                 \n",
            " dense_4 (Dense)             (None, 15)                465       \n",
            "                                                                 \n",
            " dense_5 (Dense)             (None, 10)                160       \n",
            "                                                                 \n",
            "=================================================================\n",
            "Total params: 10,903\n",
            "Trainable params: 10,903\n",
            "Non-trainable params: 0\n",
            "_________________________________________________________________\n"
          ]
        }
      ],
      "source": [
        "new = Sequential()\n",
        "new.add(Conv2D(16,(3,3), input_shape =(32,32,3)))\n",
        "new.add(MaxPooling2D(2,2))\n",
        "    \n",
        "new.add(Conv2D(8,(3,3), activation=\"relu\"))\n",
        "new.add(MaxPooling2D(2,2))\n",
        "\n",
        "    \n",
        "    \n",
        "new.add(Flatten())\n",
        "    \n",
        "new.add(Dense(30, activation=\"relu\"))\n",
        "new.add(Dense(15, activation=\"relu\"))\n",
        "new.add(Dense(10, activation=\"softmax\"))\n",
        "    \n",
        "\n",
        "new.compile(optimizer=\"adam\",\n",
        "               loss=\"sparse_categorical_crossentropy\",\n",
        "               metrics=[\"accuracy\"]\n",
        "              )\n",
        "                        \n",
        "new.summary()\n",
        "      \n"
      ]
    },
    {
      "cell_type": "code",
      "execution_count": null,
      "metadata": {
        "colab": {
          "background_save": true,
          "base_uri": "https://localhost:8080/"
        },
        "id": "HMVx_C7A48C2",
        "outputId": "af638bfc-0f79-45cf-8b09-a84e6fb7b1f1"
      },
      "outputs": [
        {
          "name": "stdout",
          "output_type": "stream",
          "text": [
            "Epoch 1/10\n",
            "1407/1407 [==============================] - 31s 22ms/step - loss: 1.0700 - accuracy: 0.6272 - val_loss: 1.2722 - val_accuracy: 0.5720\n",
            "Epoch 2/10\n",
            "1407/1407 [==============================] - 30s 22ms/step - loss: 1.0591 - accuracy: 0.6311 - val_loss: 1.1907 - val_accuracy: 0.6004\n",
            "Epoch 3/10\n",
            "1407/1407 [==============================] - 30s 22ms/step - loss: 1.0560 - accuracy: 0.6305 - val_loss: 1.1774 - val_accuracy: 0.5960\n",
            "Epoch 4/10\n",
            "1407/1407 [==============================] - 31s 22ms/step - loss: 1.0534 - accuracy: 0.6315 - val_loss: 1.1896 - val_accuracy: 0.6010\n",
            "Epoch 5/10\n",
            "1407/1407 [==============================] - 30s 22ms/step - loss: 1.0556 - accuracy: 0.6343 - val_loss: 1.1912 - val_accuracy: 0.5856\n",
            "Epoch 6/10\n",
            "1407/1407 [==============================] - 30s 22ms/step - loss: 1.0378 - accuracy: 0.6388 - val_loss: 1.2109 - val_accuracy: 0.5914\n",
            "Epoch 7/10\n",
            "1407/1407 [==============================] - 30s 21ms/step - loss: 1.0369 - accuracy: 0.6384 - val_loss: 1.2294 - val_accuracy: 0.5810\n",
            "Epoch 8/10\n",
            "1407/1407 [==============================] - 30s 22ms/step - loss: 1.0314 - accuracy: 0.6416 - val_loss: 1.1620 - val_accuracy: 0.6096\n",
            "Epoch 9/10\n",
            "1407/1407 [==============================] - 30s 21ms/step - loss: 1.0289 - accuracy: 0.6410 - val_loss: 1.2859 - val_accuracy: 0.5700\n",
            "Epoch 10/10\n",
            "1407/1407 [==============================] - 30s 21ms/step - loss: 1.0287 - accuracy: 0.6429 - val_loss: 1.2230 - val_accuracy: 0.5858\n"
          ]
        }
      ],
      "source": [
        "history =new.fit(X_train , y_train , validation_split=0.1 , epochs=10)"
      ]
    },
    {
      "cell_type": "code",
      "execution_count": null,
      "metadata": {
        "id": "hW1M8_AQ5UCt"
      },
      "outputs": [],
      "source": [
        "new.evaluate(X_test,y_test)"
      ]
    },
    {
      "cell_type": "code",
      "execution_count": null,
      "metadata": {
        "id": "ku9zsstI5h2G"
      },
      "outputs": [],
      "source": []
    }
  ],
  "metadata": {
    "colab": {
      "collapsed_sections": [],
      "name": "Untitled2.ipynb",
      "provenance": []
    },
    "kernelspec": {
      "display_name": "Python 3",
      "name": "python3"
    },
    "language_info": {
      "name": "python"
    }
  },
  "nbformat": 4,
  "nbformat_minor": 0
}